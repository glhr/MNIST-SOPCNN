{
 "cells": [
  {
   "cell_type": "code",
   "execution_count": 2,
   "id": "7a0fd14f",
   "metadata": {},
   "outputs": [
    {
     "name": "stdout",
     "output_type": "stream",
     "text": [
      "results/inverted_test/incorrect_2-3_pred0_target8.png\n",
      "results/inverted_test/incorrect_22-2_pred3_target2.png\n",
      "results/inverted_test/incorrect_10-0_pred6_target3.png\n",
      "results/inverted_test/incorrect_25-0_pred2_target9.png\n",
      "results/inverted_test/incorrect_19-3_pred2_target7.png\n",
      "results/inverted_test/incorrect_33-1_pred0_target1.png\n",
      "results/inverted_test/incorrect_27-1_pred0_target9.png\n",
      "results/inverted_test/incorrect_5-0_pred0_target1.png\n",
      "results/inverted_test/incorrect_18-4_pred5_target3.png\n",
      "results/inverted_test/incorrect_34-3_pred3_target4.png\n",
      "results/test/incorrect_2-1_pred3_target5.png\n",
      "results/test/incorrect_38-0_pred6_target5.png\n",
      "results/test/incorrect_25-2_pred2_target8.png\n",
      "results/test/incorrect_37-0_pred7_target9.png\n",
      "results/test/incorrect_10-0_pred3_target5.png\n",
      "results/test/incorrect_4-2_pred1_target7.png\n",
      "results/test/incorrect_10-1_pred1_target6.png\n",
      "results/test/incorrect_18-1_pred4_target9.png\n",
      "results/test/incorrect_7-0_pred3_target8.png\n",
      "results/test/incorrect_13-0_pred0_target5.png\n",
      "results/train/incorrect_183-0_pred1_target7.png\n",
      "results/train/incorrect_149-0_pred1_target7.png\n",
      "results/train/incorrect_147-0_pred1_target7.png\n",
      "results/train/incorrect_103-0_pred1_target7.png\n",
      "results/train/incorrect_156-0_pred3_target5.png\n",
      "results/train/incorrect_75-0_pred4_target9.png\n",
      "results/train/incorrect_169-0_pred3_target5.png\n",
      "results/train/confidence_histogram.png\n",
      "results/train/incorrect_130-0_pred1_target7.png\n",
      "results/train/incorrect_221-0_pred9_target4.png\n",
      "results/usps_test/incorrect_4-4_pred2_target7.png\n",
      "results/usps_test/incorrect_1_pred8_target9.png\n",
      "results/usps_test/incorrect_0_pred1_target4.png\n",
      "results/usps_test/incorrect_3_pred8_target9.png\n",
      "results/usps_test/incorrect_1_pred3_target0.png\n",
      "results/usps_test/incorrect_1-2_pred8_target9.png\n",
      "results/usps_test/incorrect_0_pred1_target7.png\n",
      "results/usps_test/incorrect_3_pred4_target9.png\n",
      "results/usps_test/incorrect_5-0_pred1_target7.png\n",
      "results/usps_test/incorrect_1_pred6_target4.png\n",
      "results/fashionmnist_test/incorrect_39-1_pred9_target2.png\n",
      "results/fashionmnist_test/incorrect_1-2_pred8_target2.png\n",
      "results/fashionmnist_test/incorrect_3-3_pred8_target9.png\n",
      "results/fashionmnist_test/incorrect_34-0_pred4_target9.png\n",
      "results/fashionmnist_test/incorrect_20-4_pred8_target4.png\n",
      "results/fashionmnist_test/incorrect_8-2_pred2_target9.png\n",
      "results/fashionmnist_test/incorrect_27-3_pred2_target8.png\n",
      "results/fashionmnist_test/incorrect_16-2_pred8_target4.png\n",
      "results/fashionmnist_test/incorrect_22-3_pred1_target3.png\n",
      "results/fashionmnist_test/incorrect_39-2_pred2_target7.png\n"
     ]
    },
    {
     "data": {
      "image/jpeg": "[encoded data removed]",
      "image/png": "[encoded data removed]",
      "text/plain": [
       "<PIL.Image.Image image mode=RGB size=140x56>"
      ]
     },
     "execution_count": 2,
     "metadata": {},
     "output_type": "execute_result"
    }
   ],
   "source": [
    "# create a mosaic from images in the folder results/inverted_test\n",
    "import glob\n",
    "from PIL import Image\n",
    "\n",
    "split_name = 'inverted_test'\n",
    "\n",
    "for split_name in ['inverted_test', 'test', 'train', 'usps_test','fashionmnist_test']:\n",
    "    results_path = f'results/{split_name}'\n",
    "\n",
    "    num_imgs_per_row = 5\n",
    "    num_imgs_per_col = 2\n",
    "\n",
    "    imgs_paths = glob.glob(f'{results_path}/*.png')\n",
    "    imgs = [Image.open(img) for i,img in enumerate(imgs_paths) if i < num_imgs_per_row * num_imgs_per_col]\n",
    "    for i in imgs_paths[:num_imgs_per_col * num_imgs_per_row]:\n",
    "        print(f\"{i}\")\n",
    "    num_imgs = len(imgs)\n",
    "    mosaic = Image.new('RGB', (28*num_imgs_per_row, 28*num_imgs_per_col))\n",
    "    for i, img in enumerate(imgs):\n",
    "        x = i % num_imgs_per_row * 28\n",
    "        y = i // num_imgs_per_row * 28\n",
    "        mosaic.paste(img, (x, y))\n",
    "    mosaic.save(f'results/{split_name}_mosaic.png')\n",
    "mosaic"
   ]
  }
 ],
 "metadata": {
  "kernelspec": {
   "display_name": "SOPCNN",
   "language": "python",
   "name": "python3"
  },
  "language_info": {
   "codemirror_mode": {
    "name": "ipython",
    "version": 3
   },
   "file_extension": ".py",
   "mimetype": "text/x-python",
   "name": "python",
   "nbconvert_exporter": "python",
   "pygments_lexer": "ipython3",
   "version": "3.9.19"
  }
 },
 "nbformat": 4,
 "nbformat_minor": 5
}
